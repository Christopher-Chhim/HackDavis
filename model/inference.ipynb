{
 "cells": [
  {
   "cell_type": "markdown",
   "id": "764bb9f6",
   "metadata": {},
   "source": [
    "## Inference Notebook"
   ]
  },
  {
   "cell_type": "code",
   "execution_count": 8,
   "id": "6ce866d0",
   "metadata": {},
   "outputs": [],
   "source": [
    "# %% Cell: Inference on a new WAV file\n",
    "import tensorflow as tf\n",
    "import tensorflow_hub as hub\n",
    "import librosa\n",
    "import numpy as np\n",
    "from tensorflow import keras\n",
    "from tensorflow.keras import layers, models"
   ]
  },
  {
   "cell_type": "code",
   "execution_count": 14,
   "id": "2a923577",
   "metadata": {},
   "outputs": [],
   "source": [
    "# 1) Load YAMNet from TF‑Hub\n",
    "yamnet = hub.load('https://tfhub.dev/google/yamnet/1')\n",
    "\n",
    "# 2) Wrap your SavedModel for inference\n",
    "#    (replace 'serving_default' if your signature is named differently)\n",
    "scream_layer = tf.keras.layers.TFSMLayer(\n",
    "    'human_scream_detector',\n",
    "    call_endpoint='serving_default'\n",
    ")"
   ]
  },
  {
   "cell_type": "code",
   "execution_count": 15,
   "id": "81cd77d0",
   "metadata": {},
   "outputs": [],
   "source": [
    "# 3) Audio loader\n",
    "def load_wav_16k_mono(filename: str) -> np.ndarray:\n",
    "    wav, _ = librosa.load(filename, sr=16000, mono=True)\n",
    "    return wav.astype('float32')"
   ]
  },
  {
   "cell_type": "code",
   "execution_count": 16,
   "id": "209a6530",
   "metadata": {},
   "outputs": [],
   "source": [
    "# 4) Inference fn\n",
    "def predict_scream(file_path: str, threshold: float = 0.5) -> dict:\n",
    "    wav = load_wav_16k_mono(file_path)\n",
    "    waveform = tf.convert_to_tensor(wav, dtype=tf.float32)\n",
    "    _, embeddings, _ = yamnet(waveform)\n",
    "    clip_emb = tf.reduce_mean(embeddings, axis=0, keepdims=True)  # (1,1024)\n",
    "\n",
    "    # get probability from your SavedModel\n",
    "    prob = float(scream_layer(clip_emb).numpy()[0,0])\n",
    "    label = 'Scream' if prob >= threshold else 'Non‑Scream'\n",
    "    return {'file': file_path, 'probability': prob, 'prediction': label}"
   ]
  },
  {
   "cell_type": "code",
   "execution_count": 18,
   "id": "0a9ae8b9",
   "metadata": {},
   "outputs": [
    {
     "ename": "AttributeError",
     "evalue": "'dict' object has no attribute 'numpy'",
     "output_type": "error",
     "traceback": [
      "\u001b[1;31m---------------------------------------------------------------------------\u001b[0m",
      "\u001b[1;31mAttributeError\u001b[0m                            Traceback (most recent call last)",
      "Cell \u001b[1;32mIn[18], line 2\u001b[0m\n\u001b[0;32m      1\u001b[0m \u001b[38;5;66;03m# single‐file inference\u001b[39;00m\n\u001b[1;32m----> 2\u001b[0m result \u001b[38;5;241m=\u001b[39m \u001b[43mpredict_scream\u001b[49m\u001b[43m(\u001b[49m\u001b[38;5;124;43m'\u001b[39;49m\u001b[38;5;124;43maudio.wav\u001b[39;49m\u001b[38;5;124;43m'\u001b[39;49m\u001b[43m)\u001b[49m\n\u001b[0;32m      3\u001b[0m \u001b[38;5;28mprint\u001b[39m(\u001b[38;5;124mf\u001b[39m\u001b[38;5;124m\"\u001b[39m\u001b[38;5;132;01m{\u001b[39;00mresult[\u001b[38;5;124m'\u001b[39m\u001b[38;5;124mfile\u001b[39m\u001b[38;5;124m'\u001b[39m]\u001b[38;5;132;01m}\u001b[39;00m\u001b[38;5;124m: \u001b[39m\u001b[38;5;132;01m{\u001b[39;00mresult[\u001b[38;5;124m'\u001b[39m\u001b[38;5;124mprediction\u001b[39m\u001b[38;5;124m'\u001b[39m]\u001b[38;5;132;01m}\u001b[39;00m\u001b[38;5;124m (p=\u001b[39m\u001b[38;5;132;01m{\u001b[39;00mresult[\u001b[38;5;124m'\u001b[39m\u001b[38;5;124mprobability\u001b[39m\u001b[38;5;124m'\u001b[39m]\u001b[38;5;132;01m:\u001b[39;00m\u001b[38;5;124m.3f\u001b[39m\u001b[38;5;132;01m}\u001b[39;00m\u001b[38;5;124m)\u001b[39m\u001b[38;5;124m\"\u001b[39m)\n",
      "Cell \u001b[1;32mIn[16], line 9\u001b[0m, in \u001b[0;36mpredict_scream\u001b[1;34m(file_path, threshold)\u001b[0m\n\u001b[0;32m      6\u001b[0m clip_emb \u001b[38;5;241m=\u001b[39m tf\u001b[38;5;241m.\u001b[39mreduce_mean(embeddings, axis\u001b[38;5;241m=\u001b[39m\u001b[38;5;241m0\u001b[39m, keepdims\u001b[38;5;241m=\u001b[39m\u001b[38;5;28;01mTrue\u001b[39;00m)  \u001b[38;5;66;03m# (1,1024)\u001b[39;00m\n\u001b[0;32m      8\u001b[0m \u001b[38;5;66;03m# get probability from your SavedModel\u001b[39;00m\n\u001b[1;32m----> 9\u001b[0m prob \u001b[38;5;241m=\u001b[39m \u001b[38;5;28mfloat\u001b[39m(\u001b[43mscream_layer\u001b[49m\u001b[43m(\u001b[49m\u001b[43mclip_emb\u001b[49m\u001b[43m)\u001b[49m\u001b[38;5;241;43m.\u001b[39;49m\u001b[43mnumpy\u001b[49m()[\u001b[38;5;241m0\u001b[39m,\u001b[38;5;241m0\u001b[39m])\n\u001b[0;32m     10\u001b[0m label \u001b[38;5;241m=\u001b[39m \u001b[38;5;124m'\u001b[39m\u001b[38;5;124mScream\u001b[39m\u001b[38;5;124m'\u001b[39m \u001b[38;5;28;01mif\u001b[39;00m prob \u001b[38;5;241m>\u001b[39m\u001b[38;5;241m=\u001b[39m threshold \u001b[38;5;28;01melse\u001b[39;00m \u001b[38;5;124m'\u001b[39m\u001b[38;5;124mNon‑Scream\u001b[39m\u001b[38;5;124m'\u001b[39m\n\u001b[0;32m     11\u001b[0m \u001b[38;5;28;01mreturn\u001b[39;00m {\u001b[38;5;124m'\u001b[39m\u001b[38;5;124mfile\u001b[39m\u001b[38;5;124m'\u001b[39m: file_path, \u001b[38;5;124m'\u001b[39m\u001b[38;5;124mprobability\u001b[39m\u001b[38;5;124m'\u001b[39m: prob, \u001b[38;5;124m'\u001b[39m\u001b[38;5;124mprediction\u001b[39m\u001b[38;5;124m'\u001b[39m: label}\n",
      "\u001b[1;31mAttributeError\u001b[0m: 'dict' object has no attribute 'numpy'"
     ]
    }
   ],
   "source": [
    "# single‐file inference\n",
    "result = predict_scream('audio.wav')\n",
    "print(f\"{result['file']}: {result['prediction']} (p={result['probability']:.3f})\")"
   ]
  }
 ],
 "metadata": {
  "kernelspec": {
   "display_name": "sentinelai",
   "language": "python",
   "name": "python3"
  },
  "language_info": {
   "codemirror_mode": {
    "name": "ipython",
    "version": 3
   },
   "file_extension": ".py",
   "mimetype": "text/x-python",
   "name": "python",
   "nbconvert_exporter": "python",
   "pygments_lexer": "ipython3",
   "version": "3.10.2"
  }
 },
 "nbformat": 4,
 "nbformat_minor": 5
}
